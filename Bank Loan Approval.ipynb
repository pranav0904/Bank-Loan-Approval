{
 "cells": [
  {
   "cell_type": "markdown",
   "metadata": {},
   "source": [
    "# Bank Loan Approval : Classification problem "
   ]
  },
  {
   "cell_type": "code",
   "execution_count": 1,
   "metadata": {},
   "outputs": [],
   "source": [
    "import pandas as pd\n",
    "import numpy as np"
   ]
  },
  {
   "cell_type": "code",
   "execution_count": 2,
   "metadata": {},
   "outputs": [
    {
     "data": {
      "text/html": [
       "<div>\n",
       "<style scoped>\n",
       "    .dataframe tbody tr th:only-of-type {\n",
       "        vertical-align: middle;\n",
       "    }\n",
       "\n",
       "    .dataframe tbody tr th {\n",
       "        vertical-align: top;\n",
       "    }\n",
       "\n",
       "    .dataframe thead th {\n",
       "        text-align: right;\n",
       "    }\n",
       "</style>\n",
       "<table border=\"1\" class=\"dataframe\">\n",
       "  <thead>\n",
       "    <tr style=\"text-align: right;\">\n",
       "      <th></th>\n",
       "      <th>Sex</th>\n",
       "      <th>Age</th>\n",
       "      <th>Time_at_address</th>\n",
       "      <th>Res_status</th>\n",
       "      <th>Telephone</th>\n",
       "      <th>Occupation</th>\n",
       "      <th>Job_status</th>\n",
       "      <th>Time_employed</th>\n",
       "      <th>Time_bank</th>\n",
       "      <th>Liab_ref</th>\n",
       "      <th>Acc_ref</th>\n",
       "      <th>Home_Expn</th>\n",
       "      <th>Balance</th>\n",
       "      <th>Decision</th>\n",
       "    </tr>\n",
       "  </thead>\n",
       "  <tbody>\n",
       "    <tr>\n",
       "      <th>0</th>\n",
       "      <td>M</td>\n",
       "      <td>50.750000</td>\n",
       "      <td>0.585</td>\n",
       "      <td>owner</td>\n",
       "      <td>given</td>\n",
       "      <td>unemploye</td>\n",
       "      <td>unemploye</td>\n",
       "      <td>0</td>\n",
       "      <td>0</td>\n",
       "      <td>f</td>\n",
       "      <td>given</td>\n",
       "      <td>145</td>\n",
       "      <td>0</td>\n",
       "      <td>reject</td>\n",
       "    </tr>\n",
       "    <tr>\n",
       "      <th>1</th>\n",
       "      <td>M</td>\n",
       "      <td>19.670000</td>\n",
       "      <td>10.000</td>\n",
       "      <td>rent</td>\n",
       "      <td>not_given</td>\n",
       "      <td>labourer</td>\n",
       "      <td>governmen</td>\n",
       "      <td>0</td>\n",
       "      <td>0</td>\n",
       "      <td>t</td>\n",
       "      <td>given</td>\n",
       "      <td>140</td>\n",
       "      <td>0</td>\n",
       "      <td>reject</td>\n",
       "    </tr>\n",
       "    <tr>\n",
       "      <th>2</th>\n",
       "      <td>F</td>\n",
       "      <td>52.830002</td>\n",
       "      <td>15.000</td>\n",
       "      <td>owner</td>\n",
       "      <td>given</td>\n",
       "      <td>creative_</td>\n",
       "      <td>private_s</td>\n",
       "      <td>5</td>\n",
       "      <td>14</td>\n",
       "      <td>f</td>\n",
       "      <td>given</td>\n",
       "      <td>0</td>\n",
       "      <td>2200</td>\n",
       "      <td>accept</td>\n",
       "    </tr>\n",
       "    <tr>\n",
       "      <th>3</th>\n",
       "      <td>M</td>\n",
       "      <td>22.670000</td>\n",
       "      <td>2.540</td>\n",
       "      <td>rent</td>\n",
       "      <td>not_given</td>\n",
       "      <td>creative_</td>\n",
       "      <td>governmen</td>\n",
       "      <td>2</td>\n",
       "      <td>0</td>\n",
       "      <td>f</td>\n",
       "      <td>given</td>\n",
       "      <td>0</td>\n",
       "      <td>0</td>\n",
       "      <td>accept</td>\n",
       "    </tr>\n",
       "    <tr>\n",
       "      <th>4</th>\n",
       "      <td>M</td>\n",
       "      <td>29.250000</td>\n",
       "      <td>13.000</td>\n",
       "      <td>owner</td>\n",
       "      <td>given</td>\n",
       "      <td>driver</td>\n",
       "      <td>governmen</td>\n",
       "      <td>0</td>\n",
       "      <td>0</td>\n",
       "      <td>f</td>\n",
       "      <td>given</td>\n",
       "      <td>228</td>\n",
       "      <td>0</td>\n",
       "      <td>reject</td>\n",
       "    </tr>\n",
       "  </tbody>\n",
       "</table>\n",
       "</div>"
      ],
      "text/plain": [
       "  Sex        Age  Time_at_address Res_status  Telephone Occupation Job_status  \\\n",
       "0   M  50.750000            0.585      owner      given  unemploye  unemploye   \n",
       "1   M  19.670000           10.000       rent  not_given   labourer  governmen   \n",
       "2   F  52.830002           15.000      owner      given  creative_  private_s   \n",
       "3   M  22.670000            2.540       rent  not_given  creative_  governmen   \n",
       "4   M  29.250000           13.000      owner      given     driver  governmen   \n",
       "\n",
       "   Time_employed  Time_bank Liab_ref Acc_ref  Home_Expn  Balance Decision  \n",
       "0              0          0        f   given        145        0   reject  \n",
       "1              0          0        t   given        140        0   reject  \n",
       "2              5         14        f   given          0     2200   accept  \n",
       "3              2          0        f   given          0        0   accept  \n",
       "4              0          0        f   given        228        0   reject  "
      ]
     },
     "execution_count": 2,
     "metadata": {},
     "output_type": "execute_result"
    }
   ],
   "source": [
    "loan_data = pd.read_excel(\"loan.xlsx\")\n",
    "loan_data.head()"
   ]
  },
  {
   "cell_type": "markdown",
   "metadata": {},
   "source": [
    "Dependent variable : __Decision__ <br>\n",
    "Independent variables : __Res_status, Occupation, Job_status, Liab_ref, Acc_ref (Categorical variables)__ <br>"
   ]
  },
  {
   "cell_type": "code",
   "execution_count": 3,
   "metadata": {},
   "outputs": [
    {
     "data": {
      "text/html": [
       "<div>\n",
       "<style scoped>\n",
       "    .dataframe tbody tr th:only-of-type {\n",
       "        vertical-align: middle;\n",
       "    }\n",
       "\n",
       "    .dataframe tbody tr th {\n",
       "        vertical-align: top;\n",
       "    }\n",
       "\n",
       "    .dataframe thead th {\n",
       "        text-align: right;\n",
       "    }\n",
       "</style>\n",
       "<table border=\"1\" class=\"dataframe\">\n",
       "  <thead>\n",
       "    <tr style=\"text-align: right;\">\n",
       "      <th></th>\n",
       "      <th>Res_status</th>\n",
       "      <th>Occupation</th>\n",
       "      <th>Job_status</th>\n",
       "      <th>Liab_ref</th>\n",
       "      <th>Acc_ref</th>\n",
       "      <th>Decision</th>\n",
       "    </tr>\n",
       "  </thead>\n",
       "  <tbody>\n",
       "    <tr>\n",
       "      <th>0</th>\n",
       "      <td>owner</td>\n",
       "      <td>unemploye</td>\n",
       "      <td>unemploye</td>\n",
       "      <td>f</td>\n",
       "      <td>given</td>\n",
       "      <td>reject</td>\n",
       "    </tr>\n",
       "    <tr>\n",
       "      <th>1</th>\n",
       "      <td>rent</td>\n",
       "      <td>labourer</td>\n",
       "      <td>governmen</td>\n",
       "      <td>t</td>\n",
       "      <td>given</td>\n",
       "      <td>reject</td>\n",
       "    </tr>\n",
       "    <tr>\n",
       "      <th>2</th>\n",
       "      <td>owner</td>\n",
       "      <td>creative_</td>\n",
       "      <td>private_s</td>\n",
       "      <td>f</td>\n",
       "      <td>given</td>\n",
       "      <td>accept</td>\n",
       "    </tr>\n",
       "    <tr>\n",
       "      <th>3</th>\n",
       "      <td>rent</td>\n",
       "      <td>creative_</td>\n",
       "      <td>governmen</td>\n",
       "      <td>f</td>\n",
       "      <td>given</td>\n",
       "      <td>accept</td>\n",
       "    </tr>\n",
       "    <tr>\n",
       "      <th>4</th>\n",
       "      <td>owner</td>\n",
       "      <td>driver</td>\n",
       "      <td>governmen</td>\n",
       "      <td>f</td>\n",
       "      <td>given</td>\n",
       "      <td>reject</td>\n",
       "    </tr>\n",
       "  </tbody>\n",
       "</table>\n",
       "</div>"
      ],
      "text/plain": [
       "  Res_status Occupation Job_status Liab_ref Acc_ref Decision\n",
       "0      owner  unemploye  unemploye        f   given   reject\n",
       "1       rent   labourer  governmen        t   given   reject\n",
       "2      owner  creative_  private_s        f   given   accept\n",
       "3       rent  creative_  governmen        f   given   accept\n",
       "4      owner     driver  governmen        f   given   reject"
      ]
     },
     "execution_count": 3,
     "metadata": {},
     "output_type": "execute_result"
    }
   ],
   "source": [
    "data2 = pd.DataFrame(loan_data, columns=['Res_status', 'Occupation', 'Job_status', 'Liab_ref', 'Acc_ref', 'Decision'])\n",
    "data2.head()"
   ]
  },
  {
   "cell_type": "code",
   "execution_count": 4,
   "metadata": {},
   "outputs": [
    {
     "name": "stdout",
     "output_type": "stream",
     "text": [
      "Data2 shape:  (429, 6)\n"
     ]
    }
   ],
   "source": [
    "print(\"Data2 shape: \",data2.shape)"
   ]
  },
  {
   "cell_type": "markdown",
   "metadata": {},
   "source": [
    "### Adding custom test data to check our model:"
   ]
  },
  {
   "cell_type": "code",
   "execution_count": 5,
   "metadata": {},
   "outputs": [
    {
     "name": "stdout",
     "output_type": "stream",
     "text": [
      "Data2 shape after appending test samples:  (431, 6)\n"
     ]
    }
   ],
   "source": [
    "### Sample data:\n",
    "Tdata = {'Res_status':['owner','rent'], 'Occupation':['creative_','creative_'], 'Job_status':['governmen','governmen'],\n",
    "         'Liab_ref':['f','f'], 'Acc_ref':['given','given']}\n",
    "df = pd.DataFrame(data=Tdata)\n",
    "\n",
    "### Appending test samples in the dataset\n",
    "data2 = data2.append(df, ignore_index=True)\n",
    "\n",
    "print(\"Data2 shape after appending test samples: \",data2.shape)"
   ]
  },
  {
   "cell_type": "code",
   "execution_count": 6,
   "metadata": {},
   "outputs": [],
   "source": [
    "### Splitting dependent & independent variables\n",
    "\n",
    "Y = data2['Decision']  #Dependent variable\n",
    "X = data2.drop(['Decision'],axis=1) #Independent variables\n",
    "\n",
    "\n",
    "### Creating dummy variables (Independent variables contains categorical data)\n",
    "X=pd.get_dummies(X)"
   ]
  },
  {
   "cell_type": "code",
   "execution_count": 7,
   "metadata": {},
   "outputs": [],
   "source": [
    "### Splitting train & test samples:\n",
    "\n",
    "X_train = X[:429]\n",
    "X_test = X[429:]\n",
    "Y_train = Y[:429]\n",
    "Y_test = Y[429:]"
   ]
  },
  {
   "cell_type": "markdown",
   "metadata": {},
   "source": [
    "### Note: As we have created dummy variables, We don't need to do Normalization on dataset. It is already in Normalized format.  "
   ]
  },
  {
   "cell_type": "markdown",
   "metadata": {},
   "source": [
    "### Approach:\n",
    "    -1. Naive Bayes classifier\n",
    "    -2. Logistic Regression"
   ]
  },
  {
   "cell_type": "markdown",
   "metadata": {},
   "source": [
    "## Naive Bayes classifier:"
   ]
  },
  {
   "cell_type": "code",
   "execution_count": 12,
   "metadata": {},
   "outputs": [
    {
     "name": "stdout",
     "output_type": "stream",
     "text": [
      "For Input:\n",
      "1. owner, creative_, governmen, f, given:   accept\n",
      "2. rent, creative_, governmen, f, given:   accept\n"
     ]
    }
   ],
   "source": [
    "from sklearn.naive_bayes import GaussianNB\n",
    "\n",
    "# Instantiate the model\n",
    "gnb = GaussianNB()\n",
    "\n",
    "# fitting the model with training data\n",
    "gnb.fit(X_train, Y_train)\n",
    "\n",
    "# Predicting for test samples\n",
    "y_pred = gnb.predict(X_test)\n",
    "\n",
    "print(\"For Input:\")\n",
    "print(\"1. owner, creative_, governmen, f, given:  \",y_pred[0])\n",
    "print(\"2. rent, creative_, governmen, f, given:  \",y_pred[1])\n"
   ]
  },
  {
   "cell_type": "code",
   "execution_count": 9,
   "metadata": {},
   "outputs": [
    {
     "name": "stdout",
     "output_type": "stream",
     "text": [
      "Training set score of this model: 0.5524\n"
     ]
    }
   ],
   "source": [
    "### Metric:\n",
    "print('Training set score of this model: {:.4f}'.format(gnb.score(X_train, Y_train)))"
   ]
  },
  {
   "cell_type": "markdown",
   "metadata": {},
   "source": [
    "## Logistic Regression:"
   ]
  },
  {
   "cell_type": "code",
   "execution_count": 13,
   "metadata": {},
   "outputs": [
    {
     "name": "stdout",
     "output_type": "stream",
     "text": [
      "For Input:\n",
      "1. owner, creative_, governmen, f, given:   accept\n",
      "2. rent, creative_, governmen, f, given:   reject\n"
     ]
    }
   ],
   "source": [
    "from sklearn.linear_model import LogisticRegression\n",
    "\n",
    "# Instantiate the model\n",
    "lrdg = LogisticRegression(random_state=0)\n",
    "\n",
    "# fitting the model with training data\n",
    "lrdg.fit(X_train, Y_train)\n",
    "\n",
    "# Predicting for test samples\n",
    "Y_pred = lrdg.predict(X_test)\n",
    "\n",
    "print(\"For Input:\")\n",
    "print(\"1. owner, creative_, governmen, f, given:  \",Y_pred[0])\n",
    "print(\"2. rent, creative_, governmen, f, given:  \",Y_pred[1])\n"
   ]
  },
  {
   "cell_type": "code",
   "execution_count": 11,
   "metadata": {},
   "outputs": [
    {
     "name": "stdout",
     "output_type": "stream",
     "text": [
      "Training set score of this model: 0.6807\n"
     ]
    }
   ],
   "source": [
    "print('Training set score of this model: {:.4f}'.format(lrdg.score(X_train, Y_train)))"
   ]
  },
  {
   "cell_type": "code",
   "execution_count": null,
   "metadata": {},
   "outputs": [],
   "source": []
  }
 ],
 "metadata": {
  "kernelspec": {
   "display_name": "Python 3",
   "language": "python",
   "name": "python3"
  },
  "language_info": {
   "codemirror_mode": {
    "name": "ipython",
    "version": 3
   },
   "file_extension": ".py",
   "mimetype": "text/x-python",
   "name": "python",
   "nbconvert_exporter": "python",
   "pygments_lexer": "ipython3",
   "version": "3.8.3"
  }
 },
 "nbformat": 4,
 "nbformat_minor": 4
}
